{
 "cells": [
  {
   "cell_type": "code",
   "execution_count": 2,
   "metadata": {},
   "outputs": [],
   "source": [
    "from dbai_src.dbai import DBAI_nl2sql"
   ]
  },
  {
   "cell_type": "code",
   "execution_count": 5,
   "metadata": {},
   "outputs": [],
   "source": [
    "dbai = DBAI_nl2sql(\n",
    "    proj_id= \"proj-kous\",\n",
    "    dataset_id= \"nl2sql_fiserv\",\n",
    "    tables_list= []\n",
    "    )"
   ]
  },
  {
   "cell_type": "code",
   "execution_count": 6,
   "metadata": {},
   "outputs": [
    {
     "data": {
      "text/plain": [
       "<dbai_src.dbai.NL2SQL_resp at 0x17f651100>"
      ]
     },
     "execution_count": 6,
     "metadata": {},
     "output_type": "execute_result"
    }
   ],
   "source": [
    "resp = dbai.get_sql(\"How many transactions went to Visa and Mastercard for the last month?\")"
   ]
  },
  {
   "cell_type": "code",
   "execution_count": 7,
   "metadata": {},
   "outputs": [],
   "source": [
    "resp = _"
   ]
  },
  {
   "cell_type": "code",
   "execution_count": 8,
   "metadata": {},
   "outputs": [
    {
     "name": "stdout",
     "output_type": "stream",
     "text": [
      " NL_OUTPUT: There were 0 transactions went to Visa and 0 to Mastercard last month. \n",
      "\n",
      "\n",
      " GENERATED_SQL: SELECT count(*) FROM nl2sql_fiserv.authorizations_search WHERE a_network = \"Visa\" and a_transactionDateTime between DATE_SUB(DATE(current_timestamp(), \"America/Los_Angeles\"), INTERVAL 1 MONTH) AND DATE(current_timestamp(), \"America/Los_Angeles\")\n",
      "\n",
      " SQL_OUTPUT: [{'f0_': 0}]\n"
     ]
    }
   ],
   "source": [
    "print(resp)"
   ]
  },
  {
   "cell_type": "code",
   "execution_count": null,
   "metadata": {},
   "outputs": [],
   "source": []
  }
 ],
 "metadata": {
  "kernelspec": {
   "display_name": "nl2sql_kernel",
   "language": "python",
   "name": "nl2sql_kernel"
  },
  "language_info": {
   "codemirror_mode": {
    "name": "ipython",
    "version": 3
   },
   "file_extension": ".py",
   "mimetype": "text/x-python",
   "name": "python",
   "nbconvert_exporter": "python",
   "pygments_lexer": "ipython3",
   "version": "3.12.4"
  }
 },
 "nbformat": 4,
 "nbformat_minor": 2
}
