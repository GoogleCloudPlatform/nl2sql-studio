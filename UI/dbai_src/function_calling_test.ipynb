{
 "cells": [
  {
   "cell_type": "code",
   "execution_count": 3,
   "metadata": {},
   "outputs": [],
   "source": [
    "from bot_functions import *\n",
    "from nl2sql import *\n",
    "import plotly.express as px\n",
    "import pandas as pd"
   ]
  },
  {
   "cell_type": "code",
   "execution_count": 6,
   "metadata": {},
   "outputs": [],
   "source": [
    "chat = model.start_chat()"
   ]
  },
  {
   "cell_type": "code",
   "execution_count": 9,
   "metadata": {},
   "outputs": [
    {
     "name": "stdout",
     "output_type": "stream",
     "text": [
      "Your total transaction amount for the last 2 years is $43836.61. \n",
      "\n"
     ]
    }
   ],
   "source": [
    "output = ask(\"What were my total transaction amount for last 2 years?\", chat)\n",
    "print(output.text)"
   ]
  },
  {
   "cell_type": "code",
   "execution_count": null,
   "metadata": {},
   "outputs": [],
   "source": []
  },
  {
   "cell_type": "code",
   "execution_count": null,
   "metadata": {},
   "outputs": [],
   "source": []
  },
  {
   "cell_type": "code",
   "execution_count": null,
   "metadata": {},
   "outputs": [],
   "source": []
  },
  {
   "cell_type": "markdown",
   "metadata": {},
   "source": [
    "# Steps needed by nl2sql-bot"
   ]
  },
  {
   "cell_type": "markdown",
   "metadata": {},
   "source": [
    "# TODO\n",
    "- column desc: store enums, value distribution of columns\n",
    "        - remove mode from the col_info metadata\n",
    "        - self-debug\n",
    "- join\n",
    "        - plot chart\n",
    "        - multi-turn chat\n",
    "        - clear button clears chat_history too\n",
    "        - UI: progress bar for bot output"
   ]
  },
  {
   "cell_type": "markdown",
   "metadata": {},
   "source": [
    "# Demo:\n",
    "## super easy to setup\n",
    "## multiturn questions: \n",
    "    1. how many contracts have expired in last 2 years?\n",
    "    2. ok, what about 1.5 years? This time it only does sql_query_func, no extra func calls\n",
    "    3. bot asking for help or info if it cannot understand something\n",
    "    - can ask for detailed insights or business impications\n",
    "    - can run multiple queries\n",
    "    - can ask it to plot multiple charts and variations\n",
    "# has more accuracy than non-conversational, decoupled LLM chain calls\n",
    "# robust, more intelligent, self-learning, self-debugging\n",
    "# user can ask dynamic and outlier questions which would potentially break non conversational nl2sql\n",
    "# It knows about its capability and its limitations, and can guide user what type of questions to ask\n",
    "    - guide me as best as you can, on how to use you and ask questions on you\n",
    "# It has complete visibility of itself, so less hallucination or going off-track\n"
   ]
  }
 ],
 "metadata": {
  "kernelspec": {
   "display_name": "nl2sql_kernel",
   "language": "python",
   "name": "nl2sql_kernel"
  },
  "language_info": {
   "codemirror_mode": {
    "name": "ipython",
    "version": 3
   },
   "file_extension": ".py",
   "mimetype": "text/x-python",
   "name": "python",
   "nbconvert_exporter": "python",
   "pygments_lexer": "ipython3",
   "version": "3.12.4"
  }
 },
 "nbformat": 4,
 "nbformat_minor": 2
}
