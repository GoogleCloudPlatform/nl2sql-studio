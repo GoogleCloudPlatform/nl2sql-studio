{
 "cells": [
  {
   "cell_type": "code",
   "execution_count": 5,
   "metadata": {},
   "outputs": [],
   "source": [
    "from nl2sql import *"
   ]
  },
  {
   "cell_type": "code",
   "execution_count": 34,
   "metadata": {},
   "outputs": [],
   "source": [
    "class NL2SQL_resp:\n",
    "    def __init__(self, nl_output, generated_sql, sql_output) -> None:\n",
    "        self.nl_output = nl_output\n",
    "        self.generated_sql = generated_sql\n",
    "        self.sql_output = sql_output\n",
    "    \n",
    "    def __str__(self) -> str:\n",
    "        return f\"{self.nl_output}\\n\\n{self.generated_sql}\\n\\n{self.sql_output}\"\n",
    "        \n",
    "class DBAI_nl2sql(DBAI):\n",
    "    def __init__(\n",
    "            self,\n",
    "            proj_id=\"proj-kous\",\n",
    "            dataset_id=\"Albertsons\",\n",
    "            tables_list=['camain_oracle_hcm', 'camain_ps']\n",
    "            ):\n",
    "        super().__init__(proj_id, dataset_id, tables_list)\n",
    "\n",
    "        self.nl2sql_tool = Tool(\n",
    "            function_declarations=[\n",
    "                list_tables_func,\n",
    "                get_table_metadata_func,\n",
    "                sql_query_func,\n",
    "            ],\n",
    "        )\n",
    "\n",
    "        self.agent = GenerativeModel(\"gemini-1.5-pro-001\",\n",
    "                            generation_config={\"temperature\": 0.05},\n",
    "                            safety_settings=safety_settings,\n",
    "                            tools=[self.nl2sql_tool],\n",
    "                            )\n",
    "        \n",
    "\n",
    "    \n",
    "    def get_sql(self, question):\n",
    "        chat = self.agent.start_chat()\n",
    "        prompt = question + f\"\\n The dataset_id is {self.dataset_id}\" + self.SYSTEM_PROMPT\n",
    "\n",
    "        response = chat.send_message(prompt)\n",
    "        response = response.candidates[0].content.parts[0]\n",
    "        intermediate_steps = []\n",
    "\n",
    "        function_calling_in_process = True\n",
    "        while function_calling_in_process:\n",
    "            try:\n",
    "                function_name, params = response.function_call.name, {}\n",
    "                for key, value in response.function_call.args.items():\n",
    "                    params[key] = value\n",
    "\n",
    "                if function_name == \"list_tables\":\n",
    "                    api_response = self.api_list_tables()\n",
    "                    \n",
    "                if function_name == \"get_table_metadata\":\n",
    "                    api_response = self.api_get_table_metadata(params[\"table_id\"])\n",
    "\n",
    "                if function_name == \"sql_query\":\n",
    "                    api_response = self.execute_sql_query(params[\"query\"])\n",
    "\n",
    "                response = chat.send_message(\n",
    "                    Part.from_function_response(\n",
    "                        name=function_name,\n",
    "                        response={\n",
    "                            \"content\": api_response,\n",
    "                        },\n",
    "                    ),\n",
    "                )\n",
    "                response = response.candidates[0].content.parts[0]\n",
    "                intermediate_steps.append({\n",
    "                    'function_name': function_name,\n",
    "                    'function_params': params,\n",
    "                    'API_response': api_response,\n",
    "                    'response': response\n",
    "                })\n",
    "\n",
    "            except AttributeError:\n",
    "                function_calling_in_process = False\n",
    "\n",
    "        for i in intermediate_steps[::-1]:\n",
    "            if i['function_name'] == 'sql_query':\n",
    "                generated_sql = i['function_params']['query']\n",
    "                sql_output = i['API_response']\n",
    "\n",
    "        return NL2SQL_resp(response.text, generated_sql, sql_output)"
   ]
  },
  {
   "cell_type": "code",
   "execution_count": 35,
   "metadata": {},
   "outputs": [],
   "source": [
    "ai = DBAI_nl2sql(dataset_id=\"Albertsons\", tables_list=[])"
   ]
  },
  {
   "cell_type": "code",
   "execution_count": 36,
   "metadata": {},
   "outputs": [],
   "source": [
    "resp = ai.get_sql('how many contracts expired last year')"
   ]
  },
  {
   "cell_type": "code",
   "execution_count": null,
   "metadata": {},
   "outputs": [],
   "source": []
  },
  {
   "cell_type": "code",
   "execution_count": null,
   "metadata": {},
   "outputs": [],
   "source": []
  }
 ],
 "metadata": {
  "kernelspec": {
   "display_name": "nl2sql_kernel",
   "language": "python",
   "name": "nl2sql_kernel"
  },
  "language_info": {
   "codemirror_mode": {
    "name": "ipython",
    "version": 3
   },
   "file_extension": ".py",
   "mimetype": "text/x-python",
   "name": "python",
   "nbconvert_exporter": "python",
   "pygments_lexer": "ipython3",
   "version": "3.12.4"
  }
 },
 "nbformat": 4,
 "nbformat_minor": 2
}
